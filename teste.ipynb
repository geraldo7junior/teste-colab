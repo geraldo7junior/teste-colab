{
  "nbformat": 4,
  "nbformat_minor": 0,
  "metadata": {
    "colab": {
      "provenance": [],
      "authorship_tag": "ABX9TyOgRDYL9DgpB4RoLOLMT1LM",
      "include_colab_link": true
    },
    "kernelspec": {
      "name": "python3",
      "display_name": "Python 3"
    },
    "language_info": {
      "name": "python"
    }
  },
  "cells": [
    {
      "cell_type": "markdown",
      "metadata": {
        "id": "view-in-github",
        "colab_type": "text"
      },
      "source": [
        "<a href=\"https://colab.research.google.com/github/geraldo7junior/teste-colab/blob/main/teste.ipynb\" target=\"_parent\"><img src=\"https://colab.research.google.com/assets/colab-badge.svg\" alt=\"Open In Colab\"/></a>"
      ]
    },
    {
      "cell_type": "markdown",
      "source": [
        "Teste"
      ],
      "metadata": {
        "id": "AiGMiJtyLgoM"
      }
    },
    {
      "cell_type": "code",
      "execution_count": null,
      "metadata": {
        "id": "CjszeesLLTkk"
      },
      "outputs": [],
      "source": [
        "print(\"Olá!\")"
      ]
    },
    {
      "cell_type": "code",
      "source": [
        "print(\"Hey!\")"
      ],
      "metadata": {
        "id": "3rL2xLg-NWTG"
      },
      "execution_count": null,
      "outputs": []
    }
  ]
}